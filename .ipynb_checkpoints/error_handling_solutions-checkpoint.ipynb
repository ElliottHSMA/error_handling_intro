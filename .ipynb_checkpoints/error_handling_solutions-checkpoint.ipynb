{
 "cells": [
  {
   "cell_type": "markdown",
   "id": "80d02b39-e658-41df-9114-4d12d4d12859",
   "metadata": {},
   "source": [
    "# Error Handling Exercises\n",
    "\n",
    "Below are some exercsises to give you some more practice using a `try` block and an `if` statement. You'll also have a go at trying to fix errors and raise errors in code.\n",
    "\n",
    "Here's a list of references that might help you with the exercises below:\n",
    "\n",
    "[Errors and Exceptions](https://docs.python.org/3/tutorial/errors.html)\n",
    "\n",
    "[Optional Types](https://docs.python.org/3/library/typing.html#typing.Optional)\n",
    "\n",
    "[type()](https://www.w3schools.com/python/ref_func_type.asp)\n",
    "\n",
    "[Try, Except, Else, Finally](https://www.geeksforgeeks.org/try-except-else-and-finally-in-python/)\n",
    "\n",
    "[Built-in exceptions](https://docs.python.org/3/library/exceptions.html)"
   ]
  },
  {
   "cell_type": "markdown",
   "id": "3b29c130-5eb5-4fed-827b-b105a9b35027",
   "metadata": {},
   "source": [
    "First thing it first... Import the required library. In this case import the math library."
   ]
  },
  {
   "cell_type": "code",
   "execution_count": null,
   "id": "e47561cd-e67b-4723-b14c-c3955f2578bc",
   "metadata": {},
   "outputs": [],
   "source": [
    "# Your code here..."
   ]
  },
  {
   "cell_type": "code",
   "execution_count": null,
   "id": "b5014215-202a-41c1-9710-c3dd49789ae8",
   "metadata": {},
   "outputs": [],
   "source": [
    "import math"
   ]
  },
  {
   "cell_type": "markdown",
   "id": "0833b3cb-e97d-48e7-b2a8-cdd9beaccd7c",
   "metadata": {},
   "source": [
    "#### 1. Exceptions with `if` statements.\n",
    "\n",
    "For each of the three different functions below add in the required `if` statements to address the request."
   ]
  },
  {
   "cell_type": "code",
   "execution_count": null,
   "id": "3a2ccbd2-33ae-4503-852f-aca7493b7225",
   "metadata": {},
   "outputs": [],
   "source": [
    "# REQUEST A: Modify the code below to handle positive and negative numbers by \n",
    "# adding an if statement and performing a transformation:\n",
    "\n",
    "def sqrt_for_all(x):\n",
    "    \"\"\"\n",
    "    This function will take any real number and \n",
    "    return the square root of its magnitude.\n",
    "    \n",
    "    Input: Real number\n",
    "    Output: Real number\n",
    "    \n",
    "    Sample Input: -4\n",
    "    Sample Output: 2.0\n",
    "    \"\"\"\n",
    "    \n",
    "    return math.sqrt(x)\n",
    "\n",
    "sqrt_for_all(-1)"
   ]
  },
  {
   "cell_type": "code",
   "execution_count": null,
   "id": "34eb9c53-4989-4f93-ba22-656634bbeb4d",
   "metadata": {},
   "outputs": [],
   "source": [
    "# Solution\n",
    "\n",
    "def sqrt_for_all(x):\n",
    "    \"\"\"\n",
    "    This function will take any real number and \n",
    "    return the square root of its magnitude.\n",
    "    \n",
    "    Input: Real number\n",
    "    Output: Real number\n",
    "    \n",
    "    Sample Input: -4\n",
    "    Sample Output: 2.0\n",
    "    \"\"\"\n",
    "    if x < 0:\n",
    "        x = -x\n",
    "    elif x == 0:\n",
    "        print (\"Cant have zero (0) sorry\")\n",
    "    return math.sqrt(x)\n",
    "\n",
    "sqrt_for_all(-1)"
   ]
  },
  {
   "cell_type": "code",
   "execution_count": null,
   "id": "a5258e42-79c3-4262-81ae-d3c9be9b98db",
   "metadata": {},
   "outputs": [],
   "source": [
    "# REQUEST B: Modify the code below to handle zero as well. \n",
    "# In the case of zero, return zero\n",
    "\n",
    "def divide(x, y):\n",
    "    \"\"\"\n",
    "    This function will take any two real numbers \n",
    "    and return their quotient. \n",
    "    If the denominator is zero, we return zero.\n",
    "    \n",
    "    Input: Real number\n",
    "    Output: Real number\n",
    "    \n",
    "    Sample Input: 5, 1\n",
    "    Sample Output: 5.0\n",
    "    \"\"\"\n",
    "    \n",
    "    return x / y\n",
    "\n",
    "divide(5, 0)"
   ]
  },
  {
   "cell_type": "code",
   "execution_count": null,
   "id": "148322f7-0788-4e03-9477-ec9283e47310",
   "metadata": {},
   "outputs": [],
   "source": [
    "# Solution\n",
    "\n",
    "def divide(x, y):\n",
    "    \"\"\"\n",
    "    This function will take any two real numbers \n",
    "    and return their quotient. \n",
    "    If the denominator is zero, we return zero.\n",
    "    \n",
    "    Input: Real number\n",
    "    Output: Real number\n",
    "    \n",
    "    Sample Input: 5, 1\n",
    "    Sample Output: 5.0\n",
    "    \"\"\"\n",
    "    if (x == 0 or y  == 0):\n",
    "        print (\"Cant have zero (0) as a numerator or demoninator, sorry\")    \n",
    "    else :\n",
    "        return x / y\n",
    "\n",
    "divide(5, 0)"
   ]
  },
  {
   "cell_type": "code",
   "execution_count": null,
   "id": "db139ff0-c46f-49c4-8609-e21a4ec8ad96",
   "metadata": {},
   "outputs": [],
   "source": [
    "# REQUEST C: Modify the function below so that it will take either a number and a list or, two numbers. \n",
    "# If we take two numbers, add them together and return a list of length 1. \n",
    "# Otherwise, add the number to every element of the list and return the resulting list\n",
    "\n",
    "def add_elements(a, l):\n",
    "    \"\"\"\n",
    "    This function takes either two numbers or a list and a number \n",
    "    and adds the number to all elements of the list.\n",
    "    If the function only takes two numbers, it returns a list \n",
    "    of length one that is the sum of the numbers.\n",
    "    \n",
    "    Input: number and list or two numbers\n",
    "    Output: list\n",
    "    \n",
    "    Sample Input: 5, 6\n",
    "    Sample Output: [11]\n",
    "    \"\"\"\n",
    "    \n",
    "    return [a + element for element in l]\n",
    "        \n",
    "add_elements(5, 6)"
   ]
  },
  {
   "cell_type": "code",
   "execution_count": null,
   "id": "e7b65eda-2cbf-4cc2-9813-6317bc5b5a66",
   "metadata": {},
   "outputs": [],
   "source": [
    "# Solution\n",
    "\n",
    "def add_elements(a, l):\n",
    "    \"\"\"\n",
    "    This function takes either two numbers or a list and a number \n",
    "    and adds the number to all elements of the list.\n",
    "    If the function only takes two numbers, it returns a list \n",
    "    of length one that is the sum of the numbers.\n",
    "    \n",
    "    Input: number and list or two numbers\n",
    "    Output: list\n",
    "    \n",
    "    Sample Input: 5, 6\n",
    "    Sample Output: [11]\n",
    "    \"\"\"\n",
    "    if type(a) == int and type(l) ==int:\n",
    "        return [a + l]\n",
    "    else:\n",
    "        return [a + element for element in l]\n",
    "        \n",
    "add_elements(5, [1,2,3])"
   ]
  },
  {
   "cell_type": "markdown",
   "id": "d935f3ea-7f51-4224-9503-bc1e115a4ab1",
   "metadata": {},
   "source": [
    "#### 2. Exceptions with `try` and `except`.\n",
    "\n",
    "Remember that when using `try` and `except`, we place code that we know or think that can rise an exception inside the `try` block and the code that will handle that exception (the code that will run in case a certain error arises) in the `except` block.\n",
    "\n",
    "When handling exceptions with `try` and `except` it's a good practice to specify which error are we trying to catch in the `except` clause, otherwise we will handle all the possible errors that arise in the try block in the same way. This also means that we can have several `except` blocks, since a piece of code can raise more than one error."
   ]
  },
  {
   "cell_type": "code",
   "execution_count": null,
   "id": "4feb7ced-040f-40ed-9eea-093bf71e6524",
   "metadata": {},
   "outputs": [],
   "source": [
    "try:\n",
    "    answer = int(input('Please enter a number: '))\n",
    "except ValueError:\n",
    "    print('The program exploded...You were supposed to give me an integer!!')"
   ]
  },
  {
   "cell_type": "markdown",
   "id": "bbac7542-6d64-427d-a6cd-285bd807a2b3",
   "metadata": {},
   "source": [
    "In the 4 cells below, modify the code to catch the error and print a meaningful message that will alert the user what went wrong.\n",
    "\n",
    "You may catch the error using a general except or a specific except for the error caused by the code. Here you have a list of the [built-in exceptions](https://docs.python.org/3/library/exceptions.html)"
   ]
  },
  {
   "cell_type": "code",
   "execution_count": null,
   "id": "8c71dd9c-0ce5-4b86-8e96-a450fc322eff",
   "metadata": {},
   "outputs": [],
   "source": [
    "# Number 1\n",
    "# Modify the code below:\n",
    "\n",
    "print(some_string)"
   ]
  },
  {
   "cell_type": "code",
   "execution_count": null,
   "id": "19133976-600d-4365-9eba-727d7bfa1fb6",
   "metadata": {},
   "outputs": [],
   "source": [
    "# Solution\n",
    "\n",
    "try:\n",
    "    print(some_string)\n",
    "except Exception:\n",
    "    print(\"The string you are trying to print hasn't been declared\")"
   ]
  },
  {
   "cell_type": "code",
   "execution_count": null,
   "id": "655cc415-6060-47e1-a674-ea3e36ee7f68",
   "metadata": {},
   "outputs": [],
   "source": [
    "# Modify the code below:\n",
    "\n",
    "for i in ['a','b','c']:\n",
    "    print (i**2)"
   ]
  },
  {
   "cell_type": "code",
   "execution_count": null,
   "id": "0713211e-7f93-4746-9ce1-9a892462bbd1",
   "metadata": {},
   "outputs": [],
   "source": [
    "# Solution\n",
    "\n",
    "try:\n",
    "    for i in ['a','b','c']:\n",
    "        print (i**2)\n",
    "except Exception:\n",
    "    print(\"You can only use numbers for arithmetic functions\")"
   ]
  },
  {
   "cell_type": "code",
   "execution_count": null,
   "id": "e0c7049a-d134-4dbf-b337-ec3eb8f8b974",
   "metadata": {},
   "outputs": [],
   "source": [
    "# Modify the code below:\n",
    "\n",
    "x = 5\n",
    "y = 0\n",
    "\n",
    "z = x/y"
   ]
  },
  {
   "cell_type": "code",
   "execution_count": null,
   "id": "390a6ae7-4d53-47d8-b6a1-ef9b90e6a04b",
   "metadata": {},
   "outputs": [],
   "source": [
    "# Solution\n",
    "\n",
    "x = 5\n",
    "y = 0\n",
    "\n",
    "try:\n",
    "    z = x/y\n",
    "except ArithmeticError:\n",
    "    print(\"You can't divde a number by zero, silly!\")  "
   ]
  },
  {
   "cell_type": "code",
   "execution_count": null,
   "id": "837a2c68-812d-4fb6-a14b-c04996f21180",
   "metadata": {},
   "outputs": [],
   "source": [
    "# Modify the code below:\n",
    "\n",
    "abc=[10,20,20]\n",
    "print(abc[3])"
   ]
  },
  {
   "cell_type": "code",
   "execution_count": null,
   "id": "02e3681c-0514-4583-b771-9086f90cfc6b",
   "metadata": {},
   "outputs": [],
   "source": [
    "# Solution\n",
    "\n",
    "try:\n",
    "    abc=[10,20,20]\n",
    "    print(abc[3])\n",
    "except LookupError:\n",
    "    print(\"The index of the requested element does not exist\")   "
   ]
  },
  {
   "cell_type": "markdown",
   "id": "0c2758a0-9c5e-44e4-a774-2be01c28fb3a",
   "metadata": {},
   "source": [
    "#### 3. Fixing Errors to Get Code to Run\n",
    "\n",
    "Sometimes the error is not caused by the input but by the code itself. In the 2 following cells below, examine the error and correct the code to avoid the error.\n",
    "\n",
    "**Hint:** Read the error message presented. They are often very intuitive and might even show you where (  ^  ) the error occurs in the code."
   ]
  },
  {
   "cell_type": "code",
   "execution_count": null,
   "id": "81b2e332-af5d-486e-8c76-96c1f033711e",
   "metadata": {},
   "outputs": [],
   "source": [
    "# Modify the code below:\n",
    "\n",
    "l = [1,2,3,4]\n",
    "\n",
    "sum([element + 1 for element in l]"
   ]
  },
  {
   "cell_type": "code",
   "execution_count": null,
   "id": "d3c594e8-890a-498d-ae15-d0344bc139a2",
   "metadata": {},
   "outputs": [],
   "source": [
    "# Solution\n",
    "\n",
    "l = [1,2,3,4]\n",
    "\n",
    "sum([element + 1 for element in l])"
   ]
  },
  {
   "cell_type": "code",
   "execution_count": null,
   "id": "cf86024f-d5df-48b5-96ae-a3d529906181",
   "metadata": {},
   "outputs": [],
   "source": [
    "# Modify the code below:\n",
    "\n",
    "l = [1,2,3,4]\n",
    "\n",
    "for element in l:\n",
    "    print(\"The current element in the loop is \" + element)"
   ]
  },
  {
   "cell_type": "code",
   "execution_count": null,
   "id": "6d9a7bf5-231e-48be-abc1-60285ad7e682",
   "metadata": {},
   "outputs": [],
   "source": [
    "# Solution\n",
    "\n",
    "l = [1,2,3,4]\n",
    "\n",
    "for (element) in l:\n",
    "    print(\"The current element in the loop is \" + str(element))"
   ]
  }
 ],
 "metadata": {
  "kernelspec": {
   "display_name": "Python 3 (ipykernel)",
   "language": "python",
   "name": "python3"
  },
  "language_info": {
   "codemirror_mode": {
    "name": "ipython",
    "version": 3
   },
   "file_extension": ".py",
   "mimetype": "text/x-python",
   "name": "python",
   "nbconvert_exporter": "python",
   "pygments_lexer": "ipython3",
   "version": "3.9.12"
  }
 },
 "nbformat": 4,
 "nbformat_minor": 5
}
